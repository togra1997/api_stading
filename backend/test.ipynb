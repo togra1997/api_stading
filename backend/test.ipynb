{
 "cells": [
  {
   "cell_type": "code",
   "execution_count": 1,
   "metadata": {},
   "outputs": [],
   "source": [
    "import ibis\n",
    "import datetime\n",
    "\n",
    "ibis.set_backend(\"polars\")"
   ]
  },
  {
   "cell_type": "code",
   "execution_count": 4,
   "metadata": {},
   "outputs": [],
   "source": [
    "today = datetime.datetime.today()\n",
    "\n",
    "time = \"11:00\"\n"
   ]
  },
  {
   "cell_type": "code",
   "execution_count": 5,
   "metadata": {},
   "outputs": [],
   "source": [
    "today = str(today.date())"
   ]
  },
  {
   "cell_type": "code",
   "execution_count": 6,
   "metadata": {},
   "outputs": [],
   "source": [
    "a = datetime.datetime.strptime(today + time, \"%Y-%m-%d%H:%M\")"
   ]
  },
  {
   "cell_type": "code",
   "execution_count": null,
   "metadata": {},
   "outputs": [],
   "source": [
    "b = datetime.datetime.strptime(today + \"10:30\", \"%Y-%m-%d%H:%M\")"
   ]
  },
  {
   "cell_type": "code",
   "execution_count": null,
   "metadata": {},
   "outputs": [],
   "source": [
    "table = ibis.read_csv(\"./records.csv\")\n",
    "\n",
    "table2 = table.mutate(\n",
    "    経過時間=(\n",
    "        datetime.datetime.strptime(today + time, \"%Y-%m-%d%H:%M\")\n",
    "        - datetime.datetime.strptime(today + \"10:30\", \"%Y-%m-%d%H:%M\")\n",
    "    ).total_seconds()\n",
    ")"
   ]
  },
  {
   "cell_type": "code",
   "execution_count": 20,
   "metadata": {},
   "outputs": [
    {
     "data": {
      "text/html": [
       "<div>\n",
       "<style scoped>\n",
       "    .dataframe tbody tr th:only-of-type {\n",
       "        vertical-align: middle;\n",
       "    }\n",
       "\n",
       "    .dataframe tbody tr th {\n",
       "        vertical-align: top;\n",
       "    }\n",
       "\n",
       "    .dataframe thead th {\n",
       "        text-align: right;\n",
       "    }\n",
       "</style>\n",
       "<table border=\"1\" class=\"dataframe\">\n",
       "  <thead>\n",
       "    <tr style=\"text-align: right;\">\n",
       "      <th></th>\n",
       "      <th>start_time</th>\n",
       "      <th>end_time</th>\n",
       "      <th>date</th>\n",
       "      <th>annkenn</th>\n",
       "      <th>work</th>\n",
       "      <th>kousuutukesaki</th>\n",
       "      <th>経過時間</th>\n",
       "    </tr>\n",
       "  </thead>\n",
       "  <tbody>\n",
       "    <tr>\n",
       "      <th>0</th>\n",
       "      <td>10:30</td>\n",
       "      <td>11:00</td>\n",
       "      <td>2024-11-1</td>\n",
       "      <td>d</td>\n",
       "      <td>e</td>\n",
       "      <td>f</td>\n",
       "      <td>1800.0</td>\n",
       "    </tr>\n",
       "  </tbody>\n",
       "</table>\n",
       "</div>"
      ],
      "text/plain": [
       "  start_time end_time       date annkenn work kousuutukesaki    経過時間\n",
       "0      10:30    11:00  2024-11-1       d    e              f  1800.0"
      ]
     },
     "execution_count": 20,
     "metadata": {},
     "output_type": "execute_result"
    }
   ],
   "source": [
    "table2.execute()"
   ]
  },
  {
   "cell_type": "code",
   "execution_count": null,
   "metadata": {},
   "outputs": [],
   "source": [
    "table = ibis.memtable(df)\n",
    "table2 = table.mutate(\n",
    "    経過時間=(\n",
    "        datetime.datetime.strptime(today + data.end_time, \"%Y-%m-%d%H:%M\")\n",
    "        - datetime.datetime.strptime(today + data.start_time, \"%Y-%m-%d%H:%M\")\n",
    "    ).total_seconds(),\n",
    ")\n",
    "\n",
    "read_table = ibis.read_csv(\"./records.csv\")\n",
    "\n",
    "output_table = ibis.connect([table2, read_table])\n",
    "output_table.to_csv(\"./records.csv\")"
   ]
  }
 ],
 "metadata": {
  "kernelspec": {
   "display_name": ".venv",
   "language": "python",
   "name": "python3"
  },
  "language_info": {
   "codemirror_mode": {
    "name": "ipython",
    "version": 3
   },
   "file_extension": ".py",
   "mimetype": "text/x-python",
   "name": "python",
   "nbconvert_exporter": "python",
   "pygments_lexer": "ipython3",
   "version": "3.11.10"
  }
 },
 "nbformat": 4,
 "nbformat_minor": 2
}
